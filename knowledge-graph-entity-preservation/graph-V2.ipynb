{
 "cells": [
  {
   "cell_type": "markdown",
   "id": "2354f32a-da84-4d4a-8391-ba778801d3cc",
   "metadata": {},
   "source": [
    "# Reading the data and grouping it by sentence numbers"
   ]
  },
  {
   "cell_type": "code",
   "execution_count": 838,
   "id": "b48fca3e-e0ce-4873-a61e-0663a71fd5ff",
   "metadata": {},
   "outputs": [],
   "source": [
    "import pandas as pd\n",
    "import pandas as pd\n",
    "import networkx as nx\n",
    "import matplotlib.pyplot as plt"
   ]
  },
  {
   "cell_type": "code",
   "execution_count": 839,
   "id": "ea227a84-b27a-476a-a97a-7336abea8156",
   "metadata": {},
   "outputs": [],
   "source": [
    "predict =pd.read_pickle('bin_predict_named_entities.pkl')"
   ]
  },
  {
   "cell_type": "code",
   "execution_count": 840,
   "id": "f89d9c8a-e3ab-457d-a56d-2aa874d4238a",
   "metadata": {},
   "outputs": [
    {
     "data": {
      "text/html": [
       "<div>\n",
       "<style scoped>\n",
       "    .dataframe tbody tr th:only-of-type {\n",
       "        vertical-align: middle;\n",
       "    }\n",
       "\n",
       "    .dataframe tbody tr th {\n",
       "        vertical-align: top;\n",
       "    }\n",
       "\n",
       "    .dataframe thead th {\n",
       "        text-align: right;\n",
       "    }\n",
       "</style>\n",
       "<table border=\"1\" class=\"dataframe\">\n",
       "  <thead>\n",
       "    <tr style=\"text-align: right;\">\n",
       "      <th></th>\n",
       "      <th>sent_num</th>\n",
       "      <th>NCTID</th>\n",
       "      <th>sum</th>\n",
       "      <th>disease</th>\n",
       "      <th>medical condition</th>\n",
       "      <th>drug</th>\n",
       "      <th>device</th>\n",
       "      <th>Dose or measurements</th>\n",
       "      <th>clinical trial phase</th>\n",
       "      <th>population</th>\n",
       "      <th>Time</th>\n",
       "      <th>Medical Procedure</th>\n",
       "      <th>Biomarker</th>\n",
       "    </tr>\n",
       "  </thead>\n",
       "  <tbody>\n",
       "    <tr>\n",
       "      <th>0</th>\n",
       "      <td>1</td>\n",
       "      <td>NCT00347282NCT02612909NCT03345108NCT01943474NC...</td>\n",
       "      <td>Post-enucleation socket syndrome (PESS - enoph...</td>\n",
       "      <td>846</td>\n",
       "      <td>919</td>\n",
       "      <td>725</td>\n",
       "      <td>791</td>\n",
       "      <td>633</td>\n",
       "      <td>806</td>\n",
       "      <td>764</td>\n",
       "      <td>741</td>\n",
       "      <td>833</td>\n",
       "      <td>725</td>\n",
       "    </tr>\n",
       "    <tr>\n",
       "      <th>1</th>\n",
       "      <td>2</td>\n",
       "      <td>NCT00347282NCT02612909NCT03345108NCT01622699NC...</td>\n",
       "      <td>The underlying pathophysiology, however, has n...</td>\n",
       "      <td>575</td>\n",
       "      <td>650</td>\n",
       "      <td>495</td>\n",
       "      <td>523</td>\n",
       "      <td>420</td>\n",
       "      <td>520</td>\n",
       "      <td>475</td>\n",
       "      <td>476</td>\n",
       "      <td>559</td>\n",
       "      <td>467</td>\n",
       "    </tr>\n",
       "    <tr>\n",
       "      <th>2</th>\n",
       "      <td>3</td>\n",
       "      <td>NCT00347282NCT02612909NCT03345108NCT01622699NC...</td>\n",
       "      <td>It is especially prominent when there is inade...</td>\n",
       "      <td>379</td>\n",
       "      <td>459</td>\n",
       "      <td>327</td>\n",
       "      <td>372</td>\n",
       "      <td>291</td>\n",
       "      <td>363</td>\n",
       "      <td>317</td>\n",
       "      <td>318</td>\n",
       "      <td>369</td>\n",
       "      <td>318</td>\n",
       "    </tr>\n",
       "    <tr>\n",
       "      <th>3</th>\n",
       "      <td>4</td>\n",
       "      <td>NCT00347282NCT02612909NCT01622699NCT00353197NC...</td>\n",
       "      <td>An ideal orbital implant replaces 70-80% of th...</td>\n",
       "      <td>242</td>\n",
       "      <td>277</td>\n",
       "      <td>208</td>\n",
       "      <td>235</td>\n",
       "      <td>209</td>\n",
       "      <td>220</td>\n",
       "      <td>209</td>\n",
       "      <td>190</td>\n",
       "      <td>230</td>\n",
       "      <td>199</td>\n",
       "    </tr>\n",
       "    <tr>\n",
       "      <th>4</th>\n",
       "      <td>5</td>\n",
       "      <td>NCT00347282NCT02612909NCT01622699NCT02340494NC...</td>\n",
       "      <td>implant size 20-22mm), while the ocular prosth...</td>\n",
       "      <td>138</td>\n",
       "      <td>165</td>\n",
       "      <td>127</td>\n",
       "      <td>143</td>\n",
       "      <td>119</td>\n",
       "      <td>134</td>\n",
       "      <td>141</td>\n",
       "      <td>120</td>\n",
       "      <td>139</td>\n",
       "      <td>125</td>\n",
       "    </tr>\n",
       "  </tbody>\n",
       "</table>\n",
       "</div>"
      ],
      "text/plain": [
       "   sent_num                                              NCTID  \\\n",
       "0         1  NCT00347282NCT02612909NCT03345108NCT01943474NC...   \n",
       "1         2  NCT00347282NCT02612909NCT03345108NCT01622699NC...   \n",
       "2         3  NCT00347282NCT02612909NCT03345108NCT01622699NC...   \n",
       "3         4  NCT00347282NCT02612909NCT01622699NCT00353197NC...   \n",
       "4         5  NCT00347282NCT02612909NCT01622699NCT02340494NC...   \n",
       "\n",
       "                                                 sum disease  \\\n",
       "0  Post-enucleation socket syndrome (PESS - enoph...     846   \n",
       "1  The underlying pathophysiology, however, has n...     575   \n",
       "2  It is especially prominent when there is inade...     379   \n",
       "3  An ideal orbital implant replaces 70-80% of th...     242   \n",
       "4  implant size 20-22mm), while the ocular prosth...     138   \n",
       "\n",
       "  medical condition drug device Dose or measurements clinical trial phase  \\\n",
       "0               919  725    791                  633                  806   \n",
       "1               650  495    523                  420                  520   \n",
       "2               459  327    372                  291                  363   \n",
       "3               277  208    235                  209                  220   \n",
       "4               165  127    143                  119                  134   \n",
       "\n",
       "  population Time Medical Procedure Biomarker  \n",
       "0        764  741               833       725  \n",
       "1        475  476               559       467  \n",
       "2        317  318               369       318  \n",
       "3        209  190               230       199  \n",
       "4        141  120               139       125  "
      ]
     },
     "execution_count": 840,
     "metadata": {},
     "output_type": "execute_result"
    }
   ],
   "source": [
    "predict_mat = predict.groupby('sent_num').sum().reset_index()\n",
    "predict_mat.head(5)"
   ]
  },
  {
   "cell_type": "code",
   "execution_count": 841,
   "id": "633b4b74-5c89-4988-bdde-c593bcc634b4",
   "metadata": {},
   "outputs": [],
   "source": [
    "del predict_mat['NCTID']\n",
    "del predict_mat['sum']\n"
   ]
  },
  {
   "cell_type": "code",
   "execution_count": 842,
   "id": "c903191a-44d1-4b98-bd5a-817216177039",
   "metadata": {},
   "outputs": [],
   "source": [
    "# Just considering the first seven sentences of the original and predicted summaries\n",
    "predict_mat = predict_mat.iloc[:7]"
   ]
  },
  {
   "cell_type": "markdown",
   "id": "f1a10165-9604-479e-8d46-0f2fb84be02f",
   "metadata": {},
   "source": [
    "# Generating nodes for the bipartite graph based on the columns of the dataframe"
   ]
  },
  {
   "cell_type": "code",
   "execution_count": 843,
   "id": "a9823df6-f47d-454f-999e-bdcc5fa00d24",
   "metadata": {},
   "outputs": [
    {
     "data": {
      "text/plain": [
       "['disease',\n",
       " 'medical condition',\n",
       " 'drug',\n",
       " 'device',\n",
       " 'Dose or measurements',\n",
       " 'clinical trial phase',\n",
       " 'population',\n",
       " 'Time',\n",
       " 'Medical Procedure',\n",
       " 'Biomarker']"
      ]
     },
     "execution_count": 843,
     "metadata": {},
     "output_type": "execute_result"
    }
   ],
   "source": [
    "columns = list(predict_mat.columns)\n",
    "columns.pop(0)\n",
    "columns"
   ]
  },
  {
   "cell_type": "code",
   "execution_count": 844,
   "id": "486484a7-6ed6-43e4-9271-e22a956e6b1b",
   "metadata": {},
   "outputs": [],
   "source": [
    "# define the graph and add nodes to the bipartite graph\n",
    "G_predict = nx.DiGraph()\n",
    "G_predict.add_nodes_from(predict_mat['sent_num'], bipartite=0)\n",
    "G_predict.add_nodes_from(columns, bipartite=1)"
   ]
  },
  {
   "cell_type": "code",
   "execution_count": 845,
   "id": "b57dc26b-6830-4372-b98c-3129db3b7379",
   "metadata": {},
   "outputs": [],
   "source": [
    "for i, row in predict_mat.iterrows():\n",
    "    j = predict_mat['sent_num'][i]\n",
    "    for col_name, col_value in row.items():  # Corrected from iteritems() to items()\n",
    "        if col_name == \"sent_num\":\n",
    "            continue\n",
    "        if col_value > 0:\n",
    "            G_predict.add_edge(j, col_name, weight=col_value)"
   ]
  },
  {
   "cell_type": "markdown",
   "id": "d947d6e2-ae6c-4470-beac-3b7740279e37",
   "metadata": {},
   "source": [
    "# Generating the graph for predicted summaries (generated br BART)"
   ]
  },
  {
   "cell_type": "code",
   "execution_count": 846,
   "id": "267d3cf3-cec8-4b79-81fd-dc9d51966cf5",
   "metadata": {},
   "outputs": [
    {
     "data": {
      "image/png": "[encoded data removed]",
      "text/plain": [
       "<Figure size 640x480 with 1 Axes>"
      ]
     },
     "metadata": {},
     "output_type": "display_data"
    }
   ],
   "source": [
    "# Draw the graph\n",
    "pos = nx.bipartite_layout(G_predict, columns)\n",
    "nx.draw(G_predict, pos, with_labels=True, node_size=700, node_color='skyblue', font_size=10, font_color='black', font_weight='bold', edge_color='gray', width=2, edge_cmap=plt.cm.Blues)"
   ]
  },
  {
   "cell_type": "markdown",
   "id": "b8fd12b0-4ad1-4172-8726-118237833a8a",
   "metadata": {},
   "source": [
    "# Graph of the original summaries."
   ]
  },
  {
   "cell_type": "code",
   "execution_count": 847,
   "id": "400d69e2-a65e-49d4-a2e3-a3eabaddddd9",
   "metadata": {},
   "outputs": [],
   "source": [
    "orig_test =pd.read_pickle('bin_original_test_named_entities.pkl')"
   ]
  },
  {
   "cell_type": "code",
   "execution_count": 848,
   "id": "25f4e461-3bb6-4e37-ac5e-6514b5044191",
   "metadata": {},
   "outputs": [],
   "source": [
    "def remove_last_char(text):\n",
    "    text = text[:-1]\n",
    "    return text"
   ]
  },
  {
   "cell_type": "code",
   "execution_count": 849,
   "id": "e279677f-dbcf-44a1-a90b-e5cf1dc04119",
   "metadata": {},
   "outputs": [],
   "source": [
    "orig_test['NCTID'] = orig_test['NCTID'].apply(remove_last_char)"
   ]
  },
  {
   "cell_type": "code",
   "execution_count": 850,
   "id": "6219a494-af17-4c31-9ca0-d843000ba8f8",
   "metadata": {},
   "outputs": [
    {
     "data": {
      "text/html": [
       "<div>\n",
       "<style scoped>\n",
       "    .dataframe tbody tr th:only-of-type {\n",
       "        vertical-align: middle;\n",
       "    }\n",
       "\n",
       "    .dataframe tbody tr th {\n",
       "        vertical-align: top;\n",
       "    }\n",
       "\n",
       "    .dataframe thead th {\n",
       "        text-align: right;\n",
       "    }\n",
       "</style>\n",
       "<table border=\"1\" class=\"dataframe\">\n",
       "  <thead>\n",
       "    <tr style=\"text-align: right;\">\n",
       "      <th></th>\n",
       "      <th>NCTID</th>\n",
       "      <th>sum</th>\n",
       "      <th>sent_num</th>\n",
       "      <th>disease</th>\n",
       "      <th>medical condition</th>\n",
       "      <th>drug</th>\n",
       "      <th>device</th>\n",
       "      <th>Dose or measurements</th>\n",
       "      <th>clinical trial phase</th>\n",
       "      <th>population</th>\n",
       "      <th>Time</th>\n",
       "      <th>Medical Procedure</th>\n",
       "      <th>Biomarker</th>\n",
       "    </tr>\n",
       "  </thead>\n",
       "  <tbody>\n",
       "    <tr>\n",
       "      <th>0</th>\n",
       "      <td>NCT00107380</td>\n",
       "      <td>RATIONALE: Radiolabeled monoclonal antibodies,...</td>\n",
       "      <td>1</td>\n",
       "      <td>1</td>\n",
       "      <td>1</td>\n",
       "      <td>1</td>\n",
       "      <td>1</td>\n",
       "      <td>1</td>\n",
       "      <td>1</td>\n",
       "      <td>1</td>\n",
       "      <td>1</td>\n",
       "      <td>1</td>\n",
       "      <td>1</td>\n",
       "    </tr>\n",
       "    <tr>\n",
       "      <th>1</th>\n",
       "      <td>NCT00107380</td>\n",
       "      <td>Monoclonal antibodies, such as rituximab, can ...</td>\n",
       "      <td>2</td>\n",
       "      <td>1</td>\n",
       "      <td>1</td>\n",
       "      <td>1</td>\n",
       "      <td>1</td>\n",
       "      <td>1</td>\n",
       "      <td>1</td>\n",
       "      <td>0</td>\n",
       "      <td>0</td>\n",
       "      <td>1</td>\n",
       "      <td>1</td>\n",
       "    </tr>\n",
       "    <tr>\n",
       "      <th>2</th>\n",
       "      <td>NCT00107380</td>\n",
       "      <td>Some block the ability of cancer cells to grow...</td>\n",
       "      <td>3</td>\n",
       "      <td>1</td>\n",
       "      <td>1</td>\n",
       "      <td>0</td>\n",
       "      <td>0</td>\n",
       "      <td>0</td>\n",
       "      <td>0</td>\n",
       "      <td>0</td>\n",
       "      <td>0</td>\n",
       "      <td>0</td>\n",
       "      <td>0</td>\n",
       "    </tr>\n",
       "    <tr>\n",
       "      <th>3</th>\n",
       "      <td>NCT00107380</td>\n",
       "      <td>Others find cancer cells and help kill them or...</td>\n",
       "      <td>4</td>\n",
       "      <td>1</td>\n",
       "      <td>1</td>\n",
       "      <td>1</td>\n",
       "      <td>0</td>\n",
       "      <td>0</td>\n",
       "      <td>0</td>\n",
       "      <td>0</td>\n",
       "      <td>0</td>\n",
       "      <td>1</td>\n",
       "      <td>0</td>\n",
       "    </tr>\n",
       "    <tr>\n",
       "      <th>4</th>\n",
       "      <td>NCT00107380</td>\n",
       "      <td>Drugs used in chemotherapy, such as cyclophosp...</td>\n",
       "      <td>5</td>\n",
       "      <td>1</td>\n",
       "      <td>1</td>\n",
       "      <td>1</td>\n",
       "      <td>1</td>\n",
       "      <td>1</td>\n",
       "      <td>1</td>\n",
       "      <td>1</td>\n",
       "      <td>1</td>\n",
       "      <td>1</td>\n",
       "      <td>1</td>\n",
       "    </tr>\n",
       "    <tr>\n",
       "      <th>...</th>\n",
       "      <td>...</td>\n",
       "      <td>...</td>\n",
       "      <td>...</td>\n",
       "      <td>...</td>\n",
       "      <td>...</td>\n",
       "      <td>...</td>\n",
       "      <td>...</td>\n",
       "      <td>...</td>\n",
       "      <td>...</td>\n",
       "      <td>...</td>\n",
       "      <td>...</td>\n",
       "      <td>...</td>\n",
       "      <td>...</td>\n",
       "    </tr>\n",
       "    <tr>\n",
       "      <th>3471</th>\n",
       "      <td>NCT01614249</td>\n",
       "      <td>The role of this nutritional supplement in com...</td>\n",
       "      <td>4</td>\n",
       "      <td>1</td>\n",
       "      <td>1</td>\n",
       "      <td>0</td>\n",
       "      <td>1</td>\n",
       "      <td>0</td>\n",
       "      <td>0</td>\n",
       "      <td>1</td>\n",
       "      <td>0</td>\n",
       "      <td>0</td>\n",
       "      <td>0</td>\n",
       "    </tr>\n",
       "    <tr>\n",
       "      <th>3472</th>\n",
       "      <td>NCT01614249</td>\n",
       "      <td>Yet, currently, more than 2 million pregnant w...</td>\n",
       "      <td>5</td>\n",
       "      <td>1</td>\n",
       "      <td>1</td>\n",
       "      <td>0</td>\n",
       "      <td>0</td>\n",
       "      <td>0</td>\n",
       "      <td>0</td>\n",
       "      <td>1</td>\n",
       "      <td>0</td>\n",
       "      <td>0</td>\n",
       "      <td>0</td>\n",
       "    </tr>\n",
       "    <tr>\n",
       "      <th>3473</th>\n",
       "      <td>NCT01614249</td>\n",
       "      <td>In Kenya, about 9.0% of pregnant women are HIV...</td>\n",
       "      <td>6</td>\n",
       "      <td>1</td>\n",
       "      <td>1</td>\n",
       "      <td>0</td>\n",
       "      <td>0</td>\n",
       "      <td>1</td>\n",
       "      <td>0</td>\n",
       "      <td>1</td>\n",
       "      <td>0</td>\n",
       "      <td>0</td>\n",
       "      <td>1</td>\n",
       "    </tr>\n",
       "    <tr>\n",
       "      <th>3474</th>\n",
       "      <td>NCT01614249</td>\n",
       "      <td>In this study, it is hypothesized that there i...</td>\n",
       "      <td>7</td>\n",
       "      <td>1</td>\n",
       "      <td>1</td>\n",
       "      <td>1</td>\n",
       "      <td>1</td>\n",
       "      <td>1</td>\n",
       "      <td>1</td>\n",
       "      <td>1</td>\n",
       "      <td>1</td>\n",
       "      <td>1</td>\n",
       "      <td>1</td>\n",
       "    </tr>\n",
       "    <tr>\n",
       "      <th>3475</th>\n",
       "      <td>NCT01614249</td>\n",
       "      <td>The study will therefore seek to ascertain tha...</td>\n",
       "      <td>8</td>\n",
       "      <td>1</td>\n",
       "      <td>1</td>\n",
       "      <td>1</td>\n",
       "      <td>1</td>\n",
       "      <td>1</td>\n",
       "      <td>1</td>\n",
       "      <td>1</td>\n",
       "      <td>1</td>\n",
       "      <td>1</td>\n",
       "      <td>1</td>\n",
       "    </tr>\n",
       "  </tbody>\n",
       "</table>\n",
       "<p>3476 rows × 13 columns</p>\n",
       "</div>"
      ],
      "text/plain": [
       "            NCTID                                                sum sent_num  \\\n",
       "0     NCT00107380  RATIONALE: Radiolabeled monoclonal antibodies,...        1   \n",
       "1     NCT00107380  Monoclonal antibodies, such as rituximab, can ...        2   \n",
       "2     NCT00107380  Some block the ability of cancer cells to grow...        3   \n",
       "3     NCT00107380  Others find cancer cells and help kill them or...        4   \n",
       "4     NCT00107380  Drugs used in chemotherapy, such as cyclophosp...        5   \n",
       "...           ...                                                ...      ...   \n",
       "3471  NCT01614249  The role of this nutritional supplement in com...        4   \n",
       "3472  NCT01614249  Yet, currently, more than 2 million pregnant w...        5   \n",
       "3473  NCT01614249  In Kenya, about 9.0% of pregnant women are HIV...        6   \n",
       "3474  NCT01614249  In this study, it is hypothesized that there i...        7   \n",
       "3475  NCT01614249  The study will therefore seek to ascertain tha...        8   \n",
       "\n",
       "     disease medical condition drug device Dose or measurements  \\\n",
       "0          1                 1    1      1                    1   \n",
       "1          1                 1    1      1                    1   \n",
       "2          1                 1    0      0                    0   \n",
       "3          1                 1    1      0                    0   \n",
       "4          1                 1    1      1                    1   \n",
       "...      ...               ...  ...    ...                  ...   \n",
       "3471       1                 1    0      1                    0   \n",
       "3472       1                 1    0      0                    0   \n",
       "3473       1                 1    0      0                    1   \n",
       "3474       1                 1    1      1                    1   \n",
       "3475       1                 1    1      1                    1   \n",
       "\n",
       "     clinical trial phase population Time Medical Procedure Biomarker  \n",
       "0                       1          1    1                 1         1  \n",
       "1                       1          0    0                 1         1  \n",
       "2                       0          0    0                 0         0  \n",
       "3                       0          0    0                 1         0  \n",
       "4                       1          1    1                 1         1  \n",
       "...                   ...        ...  ...               ...       ...  \n",
       "3471                    0          1    0                 0         0  \n",
       "3472                    0          1    0                 0         0  \n",
       "3473                    0          1    0                 0         1  \n",
       "3474                    1          1    1                 1         1  \n",
       "3475                    1          1    1                 1         1  \n",
       "\n",
       "[3476 rows x 13 columns]"
      ]
     },
     "execution_count": 850,
     "metadata": {},
     "output_type": "execute_result"
    }
   ],
   "source": [
    "orig_test"
   ]
  },
  {
   "cell_type": "code",
   "execution_count": 851,
   "id": "b531153d-6580-4de6-9083-6ea9680fe6fa",
   "metadata": {},
   "outputs": [
    {
     "data": {
      "text/plain": [
       "NCTID                   1000\n",
       "sum                     1000\n",
       "sent_num                1000\n",
       "disease                 1000\n",
       "medical condition       1000\n",
       "drug                    1000\n",
       "device                  1000\n",
       "Dose or measurements    1000\n",
       "clinical trial phase    1000\n",
       "population              1000\n",
       "Time                    1000\n",
       "Medical Procedure       1000\n",
       "Biomarker               1000\n",
       "dtype: int64"
      ]
     },
     "execution_count": 851,
     "metadata": {},
     "output_type": "execute_result"
    }
   ],
   "source": [
    "orig_test[orig_test['sent_num'] ==1].count()"
   ]
  },
  {
   "cell_type": "code",
   "execution_count": 852,
   "id": "cbb36bb4-7194-4481-9dd1-b17194da3357",
   "metadata": {},
   "outputs": [
    {
     "data": {
      "text/html": [
       "<div>\n",
       "<style scoped>\n",
       "    .dataframe tbody tr th:only-of-type {\n",
       "        vertical-align: middle;\n",
       "    }\n",
       "\n",
       "    .dataframe tbody tr th {\n",
       "        vertical-align: top;\n",
       "    }\n",
       "\n",
       "    .dataframe thead th {\n",
       "        text-align: right;\n",
       "    }\n",
       "</style>\n",
       "<table border=\"1\" class=\"dataframe\">\n",
       "  <thead>\n",
       "    <tr style=\"text-align: right;\">\n",
       "      <th></th>\n",
       "      <th>NCTID</th>\n",
       "      <th>sum</th>\n",
       "      <th>sent_num</th>\n",
       "      <th>disease</th>\n",
       "      <th>medical condition</th>\n",
       "      <th>drug</th>\n",
       "      <th>device</th>\n",
       "      <th>Dose or measurements</th>\n",
       "      <th>clinical trial phase</th>\n",
       "      <th>population</th>\n",
       "      <th>Time</th>\n",
       "      <th>Medical Procedure</th>\n",
       "      <th>Biomarker</th>\n",
       "    </tr>\n",
       "  </thead>\n",
       "  <tbody>\n",
       "    <tr>\n",
       "      <th>5</th>\n",
       "      <td>NCT00107380</td>\n",
       "      <td>Giving a radiolabeled monoclonal antibody toge...</td>\n",
       "      <td>6</td>\n",
       "      <td>1</td>\n",
       "      <td>1</td>\n",
       "      <td>1</td>\n",
       "      <td>1</td>\n",
       "      <td>0</td>\n",
       "      <td>0</td>\n",
       "      <td>0</td>\n",
       "      <td>0</td>\n",
       "      <td>1</td>\n",
       "      <td>0</td>\n",
       "    </tr>\n",
       "    <tr>\n",
       "      <th>6</th>\n",
       "      <td>NCT00107380</td>\n",
       "      <td>PURPOSE: This phase II trial is studying how w...</td>\n",
       "      <td>7</td>\n",
       "      <td>1</td>\n",
       "      <td>1</td>\n",
       "      <td>1</td>\n",
       "      <td>1</td>\n",
       "      <td>1</td>\n",
       "      <td>1</td>\n",
       "      <td>1</td>\n",
       "      <td>1</td>\n",
       "      <td>1</td>\n",
       "      <td>1</td>\n",
       "    </tr>\n",
       "    <tr>\n",
       "      <th>13</th>\n",
       "      <td>NCT02046200</td>\n",
       "      <td>The goal of this project is to provide key cli...</td>\n",
       "      <td>6</td>\n",
       "      <td>1</td>\n",
       "      <td>1</td>\n",
       "      <td>1</td>\n",
       "      <td>0</td>\n",
       "      <td>0</td>\n",
       "      <td>1</td>\n",
       "      <td>1</td>\n",
       "      <td>0</td>\n",
       "      <td>1</td>\n",
       "      <td>0</td>\n",
       "    </tr>\n",
       "    <tr>\n",
       "      <th>37</th>\n",
       "      <td>NCT01641562</td>\n",
       "      <td>However, these cannot detect subtle, early cha...</td>\n",
       "      <td>6</td>\n",
       "      <td>0</td>\n",
       "      <td>0</td>\n",
       "      <td>0</td>\n",
       "      <td>0</td>\n",
       "      <td>0</td>\n",
       "      <td>0</td>\n",
       "      <td>0</td>\n",
       "      <td>0</td>\n",
       "      <td>0</td>\n",
       "      <td>0</td>\n",
       "    </tr>\n",
       "    <tr>\n",
       "      <th>38</th>\n",
       "      <td>NCT01641562</td>\n",
       "      <td>Consequently, description of new parameters, w...</td>\n",
       "      <td>7</td>\n",
       "      <td>1</td>\n",
       "      <td>1</td>\n",
       "      <td>0</td>\n",
       "      <td>0</td>\n",
       "      <td>0</td>\n",
       "      <td>0</td>\n",
       "      <td>0</td>\n",
       "      <td>0</td>\n",
       "      <td>0</td>\n",
       "      <td>0</td>\n",
       "    </tr>\n",
       "    <tr>\n",
       "      <th>...</th>\n",
       "      <td>...</td>\n",
       "      <td>...</td>\n",
       "      <td>...</td>\n",
       "      <td>...</td>\n",
       "      <td>...</td>\n",
       "      <td>...</td>\n",
       "      <td>...</td>\n",
       "      <td>...</td>\n",
       "      <td>...</td>\n",
       "      <td>...</td>\n",
       "      <td>...</td>\n",
       "      <td>...</td>\n",
       "      <td>...</td>\n",
       "    </tr>\n",
       "    <tr>\n",
       "      <th>3455</th>\n",
       "      <td>NCT02956707</td>\n",
       "      <td>With the possibility that preoperative steroid...</td>\n",
       "      <td>9</td>\n",
       "      <td>1</td>\n",
       "      <td>1</td>\n",
       "      <td>1</td>\n",
       "      <td>1</td>\n",
       "      <td>1</td>\n",
       "      <td>1</td>\n",
       "      <td>1</td>\n",
       "      <td>1</td>\n",
       "      <td>1</td>\n",
       "      <td>1</td>\n",
       "    </tr>\n",
       "    <tr>\n",
       "      <th>3466</th>\n",
       "      <td>NCT03185338</td>\n",
       "      <td>Keywords:children, physical activity, school,a...</td>\n",
       "      <td>6</td>\n",
       "      <td>1</td>\n",
       "      <td>1</td>\n",
       "      <td>1</td>\n",
       "      <td>1</td>\n",
       "      <td>0</td>\n",
       "      <td>1</td>\n",
       "      <td>1</td>\n",
       "      <td>1</td>\n",
       "      <td>1</td>\n",
       "      <td>1</td>\n",
       "    </tr>\n",
       "    <tr>\n",
       "      <th>3473</th>\n",
       "      <td>NCT01614249</td>\n",
       "      <td>In Kenya, about 9.0% of pregnant women are HIV...</td>\n",
       "      <td>6</td>\n",
       "      <td>1</td>\n",
       "      <td>1</td>\n",
       "      <td>0</td>\n",
       "      <td>0</td>\n",
       "      <td>1</td>\n",
       "      <td>0</td>\n",
       "      <td>1</td>\n",
       "      <td>0</td>\n",
       "      <td>0</td>\n",
       "      <td>1</td>\n",
       "    </tr>\n",
       "    <tr>\n",
       "      <th>3474</th>\n",
       "      <td>NCT01614249</td>\n",
       "      <td>In this study, it is hypothesized that there i...</td>\n",
       "      <td>7</td>\n",
       "      <td>1</td>\n",
       "      <td>1</td>\n",
       "      <td>1</td>\n",
       "      <td>1</td>\n",
       "      <td>1</td>\n",
       "      <td>1</td>\n",
       "      <td>1</td>\n",
       "      <td>1</td>\n",
       "      <td>1</td>\n",
       "      <td>1</td>\n",
       "    </tr>\n",
       "    <tr>\n",
       "      <th>3475</th>\n",
       "      <td>NCT01614249</td>\n",
       "      <td>The study will therefore seek to ascertain tha...</td>\n",
       "      <td>8</td>\n",
       "      <td>1</td>\n",
       "      <td>1</td>\n",
       "      <td>1</td>\n",
       "      <td>1</td>\n",
       "      <td>1</td>\n",
       "      <td>1</td>\n",
       "      <td>1</td>\n",
       "      <td>1</td>\n",
       "      <td>1</td>\n",
       "      <td>1</td>\n",
       "    </tr>\n",
       "  </tbody>\n",
       "</table>\n",
       "<p>910 rows × 13 columns</p>\n",
       "</div>"
      ],
      "text/plain": [
       "            NCTID                                                sum sent_num  \\\n",
       "5     NCT00107380  Giving a radiolabeled monoclonal antibody toge...        6   \n",
       "6     NCT00107380  PURPOSE: This phase II trial is studying how w...        7   \n",
       "13    NCT02046200  The goal of this project is to provide key cli...        6   \n",
       "37    NCT01641562  However, these cannot detect subtle, early cha...        6   \n",
       "38    NCT01641562  Consequently, description of new parameters, w...        7   \n",
       "...           ...                                                ...      ...   \n",
       "3455  NCT02956707  With the possibility that preoperative steroid...        9   \n",
       "3466  NCT03185338  Keywords:children, physical activity, school,a...        6   \n",
       "3473  NCT01614249  In Kenya, about 9.0% of pregnant women are HIV...        6   \n",
       "3474  NCT01614249  In this study, it is hypothesized that there i...        7   \n",
       "3475  NCT01614249  The study will therefore seek to ascertain tha...        8   \n",
       "\n",
       "     disease medical condition drug device Dose or measurements  \\\n",
       "5          1                 1    1      1                    0   \n",
       "6          1                 1    1      1                    1   \n",
       "13         1                 1    1      0                    0   \n",
       "37         0                 0    0      0                    0   \n",
       "38         1                 1    0      0                    0   \n",
       "...      ...               ...  ...    ...                  ...   \n",
       "3455       1                 1    1      1                    1   \n",
       "3466       1                 1    1      1                    0   \n",
       "3473       1                 1    0      0                    1   \n",
       "3474       1                 1    1      1                    1   \n",
       "3475       1                 1    1      1                    1   \n",
       "\n",
       "     clinical trial phase population Time Medical Procedure Biomarker  \n",
       "5                       0          0    0                 1         0  \n",
       "6                       1          1    1                 1         1  \n",
       "13                      1          1    0                 1         0  \n",
       "37                      0          0    0                 0         0  \n",
       "38                      0          0    0                 0         0  \n",
       "...                   ...        ...  ...               ...       ...  \n",
       "3455                    1          1    1                 1         1  \n",
       "3466                    1          1    1                 1         1  \n",
       "3473                    0          1    0                 0         1  \n",
       "3474                    1          1    1                 1         1  \n",
       "3475                    1          1    1                 1         1  \n",
       "\n",
       "[910 rows x 13 columns]"
      ]
     },
     "execution_count": 852,
     "metadata": {},
     "output_type": "execute_result"
    }
   ],
   "source": [
    "orig_test[orig_test.sent_num > 5]"
   ]
  },
  {
   "cell_type": "code",
   "execution_count": 853,
   "id": "7053718f-175a-4bc4-bbb6-6bbbd6c889a4",
   "metadata": {},
   "outputs": [
    {
     "data": {
      "text/html": [
       "<div>\n",
       "<style scoped>\n",
       "    .dataframe tbody tr th:only-of-type {\n",
       "        vertical-align: middle;\n",
       "    }\n",
       "\n",
       "    .dataframe tbody tr th {\n",
       "        vertical-align: top;\n",
       "    }\n",
       "\n",
       "    .dataframe thead th {\n",
       "        text-align: right;\n",
       "    }\n",
       "</style>\n",
       "<table border=\"1\" class=\"dataframe\">\n",
       "  <thead>\n",
       "    <tr style=\"text-align: right;\">\n",
       "      <th></th>\n",
       "      <th>sent_num</th>\n",
       "      <th>NCTID</th>\n",
       "      <th>sum</th>\n",
       "      <th>disease</th>\n",
       "      <th>medical condition</th>\n",
       "      <th>drug</th>\n",
       "      <th>device</th>\n",
       "      <th>Dose or measurements</th>\n",
       "      <th>clinical trial phase</th>\n",
       "      <th>population</th>\n",
       "      <th>Time</th>\n",
       "      <th>Medical Procedure</th>\n",
       "      <th>Biomarker</th>\n",
       "    </tr>\n",
       "  </thead>\n",
       "  <tbody>\n",
       "    <tr>\n",
       "      <th>0</th>\n",
       "      <td>1</td>\n",
       "      <td>NCT00107380NCT03425708NCT02046200NCT00748462NC...</td>\n",
       "      <td>RATIONALE: Radiolabeled monoclonal antibodies,...</td>\n",
       "      <td>844</td>\n",
       "      <td>922</td>\n",
       "      <td>657</td>\n",
       "      <td>725</td>\n",
       "      <td>583</td>\n",
       "      <td>782</td>\n",
       "      <td>728</td>\n",
       "      <td>650</td>\n",
       "      <td>824</td>\n",
       "      <td>651</td>\n",
       "    </tr>\n",
       "    <tr>\n",
       "      <th>1</th>\n",
       "      <td>2</td>\n",
       "      <td>NCT00107380NCT02046200NCT03275467NCT02054429NC...</td>\n",
       "      <td>Monoclonal antibodies, such as rituximab, can ...</td>\n",
       "      <td>412</td>\n",
       "      <td>496</td>\n",
       "      <td>371</td>\n",
       "      <td>380</td>\n",
       "      <td>308</td>\n",
       "      <td>386</td>\n",
       "      <td>335</td>\n",
       "      <td>342</td>\n",
       "      <td>413</td>\n",
       "      <td>348</td>\n",
       "    </tr>\n",
       "    <tr>\n",
       "      <th>2</th>\n",
       "      <td>3</td>\n",
       "      <td>NCT00107380NCT02046200NCT03275467NCT02054429NC...</td>\n",
       "      <td>Some block the ability of cancer cells to grow...</td>\n",
       "      <td>300</td>\n",
       "      <td>343</td>\n",
       "      <td>263</td>\n",
       "      <td>268</td>\n",
       "      <td>235</td>\n",
       "      <td>282</td>\n",
       "      <td>246</td>\n",
       "      <td>235</td>\n",
       "      <td>306</td>\n",
       "      <td>241</td>\n",
       "    </tr>\n",
       "    <tr>\n",
       "      <th>3</th>\n",
       "      <td>4</td>\n",
       "      <td>NCT00107380NCT02046200NCT03275467NCT02509429NC...</td>\n",
       "      <td>Others find cancer cells and help kill them or...</td>\n",
       "      <td>186</td>\n",
       "      <td>227</td>\n",
       "      <td>169</td>\n",
       "      <td>176</td>\n",
       "      <td>144</td>\n",
       "      <td>176</td>\n",
       "      <td>152</td>\n",
       "      <td>154</td>\n",
       "      <td>199</td>\n",
       "      <td>151</td>\n",
       "    </tr>\n",
       "    <tr>\n",
       "      <th>4</th>\n",
       "      <td>5</td>\n",
       "      <td>NCT00107380NCT02046200NCT03275467NCT02509429NC...</td>\n",
       "      <td>Drugs used in chemotherapy, such as cyclophosp...</td>\n",
       "      <td>139</td>\n",
       "      <td>172</td>\n",
       "      <td>133</td>\n",
       "      <td>132</td>\n",
       "      <td>122</td>\n",
       "      <td>129</td>\n",
       "      <td>118</td>\n",
       "      <td>117</td>\n",
       "      <td>147</td>\n",
       "      <td>111</td>\n",
       "    </tr>\n",
       "  </tbody>\n",
       "</table>\n",
       "</div>"
      ],
      "text/plain": [
       "   sent_num                                              NCTID  \\\n",
       "0         1  NCT00107380NCT03425708NCT02046200NCT00748462NC...   \n",
       "1         2  NCT00107380NCT02046200NCT03275467NCT02054429NC...   \n",
       "2         3  NCT00107380NCT02046200NCT03275467NCT02054429NC...   \n",
       "3         4  NCT00107380NCT02046200NCT03275467NCT02509429NC...   \n",
       "4         5  NCT00107380NCT02046200NCT03275467NCT02509429NC...   \n",
       "\n",
       "                                                 sum disease  \\\n",
       "0  RATIONALE: Radiolabeled monoclonal antibodies,...     844   \n",
       "1  Monoclonal antibodies, such as rituximab, can ...     412   \n",
       "2  Some block the ability of cancer cells to grow...     300   \n",
       "3  Others find cancer cells and help kill them or...     186   \n",
       "4  Drugs used in chemotherapy, such as cyclophosp...     139   \n",
       "\n",
       "  medical condition drug device Dose or measurements clinical trial phase  \\\n",
       "0               922  657    725                  583                  782   \n",
       "1               496  371    380                  308                  386   \n",
       "2               343  263    268                  235                  282   \n",
       "3               227  169    176                  144                  176   \n",
       "4               172  133    132                  122                  129   \n",
       "\n",
       "  population Time Medical Procedure Biomarker  \n",
       "0        728  650               824       651  \n",
       "1        335  342               413       348  \n",
       "2        246  235               306       241  \n",
       "3        152  154               199       151  \n",
       "4        118  117               147       111  "
      ]
     },
     "execution_count": 853,
     "metadata": {},
     "output_type": "execute_result"
    }
   ],
   "source": [
    "orig_test_mat = orig_test.groupby('sent_num').sum().reset_index()\n",
    "orig_test_mat.head(5)"
   ]
  },
  {
   "cell_type": "code",
   "execution_count": 854,
   "id": "2258e2c9-c507-43cf-bda0-9d119f2406aa",
   "metadata": {},
   "outputs": [],
   "source": [
    "# Just considering the first seven sentences of the original and predicted summaries\n",
    "orig_test_mat = orig_test_mat.iloc[:7]"
   ]
  },
  {
   "cell_type": "code",
   "execution_count": 855,
   "id": "711889fd-15b0-4133-9866-181e7b537aaf",
   "metadata": {},
   "outputs": [],
   "source": [
    "del orig_test_mat['NCTID']\n",
    "del orig_test_mat['sum']\n"
   ]
  },
  {
   "cell_type": "code",
   "execution_count": 856,
   "id": "48a7477c-55fe-402e-84ae-d44be4282860",
   "metadata": {},
   "outputs": [],
   "source": [
    "def compare(a,b,feature):\n",
    "    fig, (ax1, ax2) = plt.subplots(2, 1, sharex=True)\n",
    "    tmp1 = a.copy(deep=True)\n",
    "    tmp1.set_index('sent_num', inplace=True)\n",
    "    p1 = tmp1[feature].plot.bar(ax=ax1)\n",
    "    \n",
    "    tmp2 = b.copy(deep=True)\n",
    "    tmp2.set_index('sent_num', inplace=True)\n",
    "    p2 = tmp2[feature].plot.bar(ax=ax2)\n",
    "    return p1,p2"
   ]
  },
  {
   "cell_type": "markdown",
   "id": "84fad014-7b5d-4011-898e-e98cdc885f6f",
   "metadata": {},
   "source": [
    "# Distribution of the entity class \"drug\" in different sentences"
   ]
  },
  {
   "cell_type": "code",
   "execution_count": 857,
   "id": "eec5d072-4150-4319-897a-8e37ebe8bee6",
   "metadata": {},
   "outputs": [
    {
     "data": {
      "text/plain": [
       "(<Axes: xlabel='sent_num'>, <Axes: xlabel='sent_num'>)"
      ]
     },
     "execution_count": 857,
     "metadata": {},
     "output_type": "execute_result"
    },
    {
     "data": {
      "image/png": "[encoded data removed]",
      "text/plain": [
       "<Figure size 640x480 with 2 Axes>"
      ]
     },
     "metadata": {},
     "output_type": "display_data"
    }
   ],
   "source": [
    "\n",
    "compare(orig_test_mat, predict_mat, 'drug')"
   ]
  },
  {
   "cell_type": "code",
   "execution_count": 858,
   "id": "9eb34dc5-21f1-4344-9e6f-1c6d4ccca58d",
   "metadata": {},
   "outputs": [
    {
     "data": {
      "text/plain": [
       "<Axes: xlabel='sent_num'>"
      ]
     },
     "execution_count": 858,
     "metadata": {},
     "output_type": "execute_result"
    },
    {
     "data": {
      "image/png": "[encoded data removed]",
      "text/plain": [
       "<Figure size 640x480 with 1 Axes>"
      ]
     },
     "metadata": {},
     "output_type": "display_data"
    }
   ],
   "source": [
    "tmp = orig_test_mat.copy(deep=True)\n",
    "tmp.set_index('sent_num', inplace=True)\n",
    "tmp['disease'].plot.bar()"
   ]
  },
  {
   "cell_type": "code",
   "execution_count": 859,
   "id": "bb4ff34b-70f9-476a-ac71-b261085a0e43",
   "metadata": {},
   "outputs": [
    {
     "data": {
      "text/plain": [
       "<Axes: xlabel='sent_num'>"
      ]
     },
     "execution_count": 859,
     "metadata": {},
     "output_type": "execute_result"
    },
    {
     "data": {
      "image/png": "[encoded data removed]",
      "text/plain": [
       "<Figure size 640x480 with 1 Axes>"
      ]
     },
     "metadata": {},
     "output_type": "display_data"
    }
   ],
   "source": [
    "tmp = predict_mat.copy(deep=True)\n",
    "tmp.set_index('sent_num', inplace=True)\n",
    "tmp['disease'].plot.bar()"
   ]
  },
  {
   "cell_type": "code",
   "execution_count": 860,
   "id": "6ca6e32e-b39c-4812-9642-508274c539ab",
   "metadata": {},
   "outputs": [],
   "source": [
    "# define the graph and add nodes to the bipartite graph\n",
    "G_orig_test = nx.DiGraph()\n",
    "G_orig_test.add_nodes_from(orig_test_mat['sent_num'], bipartite=0)\n",
    "\n",
    "\n",
    "columns = list(orig_test_mat.columns)\n",
    "columns.pop(0)\n",
    "\n",
    "\n",
    "\n",
    "G_orig_test.add_nodes_from(columns, bipartite=1)"
   ]
  },
  {
   "cell_type": "code",
   "execution_count": 861,
   "id": "f32c37c9-7237-4583-b0be-a0903676d463",
   "metadata": {},
   "outputs": [],
   "source": [
    "for i, row in orig_test_mat.iterrows():\n",
    "    j = orig_test_mat['sent_num'][i]\n",
    "    for col_name, col_value in row.items():  # Corrected from iteritems() to items()\n",
    "        if col_name == \"sent_num\":\n",
    "            continue\n",
    "        if col_value > 0:\n",
    "            G_orig_test.add_edge(j, col_name, weight=col_value)"
   ]
  },
  {
   "cell_type": "code",
   "execution_count": 862,
   "id": "904dd63f-e8f3-4e4a-8669-abed6429bed6",
   "metadata": {},
   "outputs": [
    {
     "data": {
      "image/png": "[encoded data removed]",
      "text/plain": [
       "<Figure size 640x480 with 1 Axes>"
      ]
     },
     "metadata": {},
     "output_type": "display_data"
    }
   ],
   "source": [
    "# Draw the graph\n",
    "pos = nx.bipartite_layout(G_orig_test, columns)\n",
    "nx.draw(G_orig_test, pos, with_labels=True, node_size=700, node_color='skyblue', font_size=10, font_color='black', font_weight='bold', edge_color='gray', width=2, edge_cmap=plt.cm.Blues)"
   ]
  },
  {
   "cell_type": "markdown",
   "id": "2b1d6c19-98eb-4d88-a3cd-21ae1bfd4235",
   "metadata": {},
   "source": [
    "# single trial graph comparison"
   ]
  },
  {
   "cell_type": "code",
   "execution_count": 863,
   "id": "ac502596-314b-41e7-86c0-6b22f0a351a3",
   "metadata": {},
   "outputs": [],
   "source": [
    "def graph_maker(nctid, base_matrix ):\n",
    "    test_a = base_matrix[base_matrix['NCTID'] ==nctid]\n",
    "    \n",
    "    del test_a['NCTID']\n",
    "    del test_a['sum']\n",
    "    \n",
    "    \n",
    "    columns = list(test_a.columns)\n",
    "    columns.pop(0)\n",
    "    \n",
    "    G_test_a = nx.Graph()\n",
    "    G_test_a.add_nodes_from( test_a['sent_num'], bipartite=0)\n",
    "    G_test_a.add_nodes_from(columns, bipartite=1)\n",
    "    \n",
    "    for i, row in test_a.iterrows():\n",
    "        j = (test_a['sent_num'])[i]\n",
    "        for col_name, col_value in row.items():  # Corrected from iteritems() to items()\n",
    "            if col_name == \"sent_num\":\n",
    "                continue\n",
    "            if col_value is not None:\n",
    "                if col_value > 0:\n",
    "                    G_test_a.add_edge(j, col_name)\n",
    "            else:\n",
    "                print(i, row, col_name, col_value)\n",
    "            \n",
    "    # pos = nx.bipartite_layout( G_test_a, columns)\n",
    "    # nx.draw( G_test_a, pos, with_labels=True, node_size=700, node_color='skyblue', font_size=10, font_color='black', font_weight='bold', edge_color='gray', width=2, edge_cmap=plt.cm.Blues)\n",
    "    return(G_test_a), test_a"
   ]
  },
  {
   "cell_type": "code",
   "execution_count": 864,
   "id": "2fb507ff-b1de-4d20-8145-2745fe1d913d",
   "metadata": {},
   "outputs": [],
   "source": [
    "predict.fillna(0, inplace=True)\n",
    "orig_test.fillna(0, inplace=True)"
   ]
  },
  {
   "cell_type": "code",
   "execution_count": 865,
   "id": "011f5482-ad80-4803-8408-faffdfd1cb5d",
   "metadata": {},
   "outputs": [],
   "source": [
    "dict1 = predict.groupby('NCTID')['sent_num'].max().to_dict()\n",
    "dict2 = orig_test.groupby('NCTID')['sent_num'].max().to_dict()"
   ]
  },
  {
   "cell_type": "code",
   "execution_count": 866,
   "id": "4d4794cd-20c2-4086-966d-c975846e525f",
   "metadata": {},
   "outputs": [],
   "source": [
    "intersection_dict = {key: dict1[key] for key in dict1 if key in dict2 and dict1[key] == dict2[key]}\n",
    "# intersection_dict"
   ]
  },
  {
   "cell_type": "code",
   "execution_count": 867,
   "id": "ceccdd35-0753-4690-bd5f-2ff8d11b5b88",
   "metadata": {},
   "outputs": [],
   "source": [
    "uni = list(intersection_dict.keys())"
   ]
  },
  {
   "cell_type": "code",
   "execution_count": 868,
   "id": "485cda91-d2e2-4996-9d0d-77d6723af8cf",
   "metadata": {},
   "outputs": [],
   "source": [
    "predict = predict[predict['NCTID'].isin(uni)]\n",
    "orig_test = orig_test[orig_test['NCTID'].isin(uni)]"
   ]
  },
  {
   "cell_type": "markdown",
   "id": "bf39cddd-f894-401e-a0d3-1c76dcf2aa83",
   "metadata": {},
   "source": [
    "# Creating graphs for all generated and original summaries, and comparing the graphs using Jaccard similarity"
   ]
  },
  {
   "cell_type": "code",
   "execution_count": 869,
   "id": "5bb88c41-1f77-4620-bf75-b488620b3e33",
   "metadata": {},
   "outputs": [],
   "source": [
    "all_nct = list(predict['NCTID'].unique())\n",
    "jaccard_sim = []\n",
    "for nct in all_nct:\n",
    "    predict\n",
    "    g1, test_a = graph_maker(nct, predict)\n",
    "    g2, test_b = graph_maker(nct, orig_test)\n",
    "    edges_set_G1 = set(g1.edges())\n",
    "    edges_set_G2 = set(g2.edges())\n",
    "    if len(edges_set_G1.union(edges_set_G2)) > 0:\n",
    "        jaccard_similarity = len(edges_set_G1.intersection(edges_set_G2)) / len(edges_set_G1.union(edges_set_G2))\n",
    "    else:\n",
    "        jaccard_similarity = 0\n",
    "    jaccard_sim.append(jaccard_similarity)\n",
    "\n",
    "     \n",
    "\n"
   ]
  },
  {
   "cell_type": "code",
   "execution_count": 870,
   "id": "aeb38739-6d62-4d05-bce2-2e3454e58e30",
   "metadata": {},
   "outputs": [
    {
     "data": {
      "text/plain": [
       "0.7181913178987567"
      ]
     },
     "execution_count": 870,
     "metadata": {},
     "output_type": "execute_result"
    }
   ],
   "source": [
    "sum(jaccard_sim)/ len(jaccard_sim)"
   ]
  },
  {
   "cell_type": "code",
   "execution_count": 871,
   "id": "f9518b98-4cdb-43d0-84ec-80252f84cc8c",
   "metadata": {},
   "outputs": [],
   "source": [
    "g1, test_a = graph_maker('NCT03576677', predict)"
   ]
  },
  {
   "cell_type": "code",
   "execution_count": 872,
   "id": "564fc17a-266f-492b-8e18-3a2a57d11347",
   "metadata": {},
   "outputs": [],
   "source": [
    "a = (predict[predict['NCTID'] == 'NCT00059891']).reset_index()\n",
    "predict_len = 0 \n",
    "for index , row in a.iterrows():\n",
    "    predict_len +=len(row['sum'])"
   ]
  },
  {
   "cell_type": "code",
   "execution_count": 873,
   "id": "4acb108d-9fa6-4e94-9790-33bd14958870",
   "metadata": {},
   "outputs": [
    {
     "data": {
      "text/plain": [
       "362"
      ]
     },
     "execution_count": 873,
     "metadata": {},
     "output_type": "execute_result"
    }
   ],
   "source": [
    "predict_len"
   ]
  },
  {
   "cell_type": "code",
   "execution_count": 874,
   "id": "d6554470-db4f-4721-9c7b-c9774e1e34d6",
   "metadata": {},
   "outputs": [],
   "source": [
    "a = (orig_test[orig_test['NCTID'] == 'NCT00059891']).reset_index()\n",
    "orig_test_len = 0 \n",
    "for index , row in a.iterrows():\n",
    "    orig_test_len +=len(row['sum'])"
   ]
  },
  {
   "cell_type": "code",
   "execution_count": 875,
   "id": "01c33b33-2cb3-4bfb-acbe-55c93c7ce62d",
   "metadata": {},
   "outputs": [
    {
     "data": {
      "text/plain": [
       "380"
      ]
     },
     "execution_count": 875,
     "metadata": {},
     "output_type": "execute_result"
    }
   ],
   "source": [
    "orig_test_len"
   ]
  },
  {
   "cell_type": "code",
   "execution_count": 876,
   "id": "55fb678a-f7a2-4b29-a66c-0647d67d895b",
   "metadata": {},
   "outputs": [],
   "source": [
    "g2, test_b = graph_maker('NCT03576677', orig_test)"
   ]
  },
  {
   "cell_type": "code",
   "execution_count": 877,
   "id": "aa6ae153-38d3-4930-9c32-235b7e32b7fd",
   "metadata": {},
   "outputs": [
    {
     "data": {
      "text/html": [
       "<div>\n",
       "<style scoped>\n",
       "    .dataframe tbody tr th:only-of-type {\n",
       "        vertical-align: middle;\n",
       "    }\n",
       "\n",
       "    .dataframe tbody tr th {\n",
       "        vertical-align: top;\n",
       "    }\n",
       "\n",
       "    .dataframe thead th {\n",
       "        text-align: right;\n",
       "    }\n",
       "</style>\n",
       "<table border=\"1\" class=\"dataframe\">\n",
       "  <thead>\n",
       "    <tr style=\"text-align: right;\">\n",
       "      <th></th>\n",
       "      <th>NCTID</th>\n",
       "      <th>sum</th>\n",
       "      <th>sent_num</th>\n",
       "      <th>disease</th>\n",
       "      <th>medical condition</th>\n",
       "      <th>drug</th>\n",
       "      <th>device</th>\n",
       "      <th>Dose or measurements</th>\n",
       "      <th>clinical trial phase</th>\n",
       "      <th>population</th>\n",
       "      <th>Time</th>\n",
       "      <th>Medical Procedure</th>\n",
       "      <th>Biomarker</th>\n",
       "    </tr>\n",
       "  </thead>\n",
       "  <tbody>\n",
       "    <tr>\n",
       "      <th>990</th>\n",
       "      <td>NCT03464799</td>\n",
       "      <td>40 women who had been operated for endometrios...</td>\n",
       "      <td>1</td>\n",
       "      <td>1</td>\n",
       "      <td>1</td>\n",
       "      <td>1</td>\n",
       "      <td>1</td>\n",
       "      <td>0</td>\n",
       "      <td>1</td>\n",
       "      <td>1</td>\n",
       "      <td>1</td>\n",
       "      <td>1</td>\n",
       "      <td>1</td>\n",
       "    </tr>\n",
       "    <tr>\n",
       "      <th>991</th>\n",
       "      <td>NCT03464799</td>\n",
       "      <td>Pathological specimens will be stained with an...</td>\n",
       "      <td>2</td>\n",
       "      <td>1</td>\n",
       "      <td>1</td>\n",
       "      <td>1</td>\n",
       "      <td>1</td>\n",
       "      <td>1</td>\n",
       "      <td>1</td>\n",
       "      <td>1</td>\n",
       "      <td>1</td>\n",
       "      <td>1</td>\n",
       "      <td>1</td>\n",
       "    </tr>\n",
       "    <tr>\n",
       "      <th>992</th>\n",
       "      <td>NCT03464799</td>\n",
       "      <td>\"programmed cell death (PD-1)\" is a protein co...</td>\n",
       "      <td>3</td>\n",
       "      <td>1</td>\n",
       "      <td>1</td>\n",
       "      <td>1</td>\n",
       "      <td>1</td>\n",
       "      <td>1</td>\n",
       "      <td>1</td>\n",
       "      <td>1</td>\n",
       "      <td>1</td>\n",
       "      <td>1</td>\n",
       "      <td>1</td>\n",
       "    </tr>\n",
       "    <tr>\n",
       "      <th>993</th>\n",
       "      <td>NCT03464799</td>\n",
       "      <td>It was shown on apoptotic cells in earlier tim...</td>\n",
       "      <td>4</td>\n",
       "      <td>1</td>\n",
       "      <td>1</td>\n",
       "      <td>0</td>\n",
       "      <td>1</td>\n",
       "      <td>0</td>\n",
       "      <td>1</td>\n",
       "      <td>0</td>\n",
       "      <td>1</td>\n",
       "      <td>0</td>\n",
       "      <td>1</td>\n",
       "    </tr>\n",
       "    <tr>\n",
       "      <th>994</th>\n",
       "      <td>NCT03464799</td>\n",
       "      <td>The upregulation of PD-1 is a result of the ac...</td>\n",
       "      <td>5</td>\n",
       "      <td>1</td>\n",
       "      <td>1</td>\n",
       "      <td>1</td>\n",
       "      <td>1</td>\n",
       "      <td>0</td>\n",
       "      <td>1</td>\n",
       "      <td>1</td>\n",
       "      <td>1</td>\n",
       "      <td>0</td>\n",
       "      <td>1</td>\n",
       "    </tr>\n",
       "  </tbody>\n",
       "</table>\n",
       "</div>"
      ],
      "text/plain": [
       "           NCTID                                                sum sent_num  \\\n",
       "990  NCT03464799  40 women who had been operated for endometrios...        1   \n",
       "991  NCT03464799  Pathological specimens will be stained with an...        2   \n",
       "992  NCT03464799  \"programmed cell death (PD-1)\" is a protein co...        3   \n",
       "993  NCT03464799  It was shown on apoptotic cells in earlier tim...        4   \n",
       "994  NCT03464799  The upregulation of PD-1 is a result of the ac...        5   \n",
       "\n",
       "    disease medical condition drug device  Dose or measurements  \\\n",
       "990       1                 1    1      1                     0   \n",
       "991       1                 1    1      1                     1   \n",
       "992       1                 1    1      1                     1   \n",
       "993       1                 1    0      1                     0   \n",
       "994       1                 1    1      1                     0   \n",
       "\n",
       "     clinical trial phase  population Time  Medical Procedure Biomarker  \n",
       "990                     1           1    1                  1         1  \n",
       "991                     1           1    1                  1         1  \n",
       "992                     1           1    1                  1         1  \n",
       "993                     1           0    1                  0         1  \n",
       "994                     1           1    1                  0         1  "
      ]
     },
     "execution_count": 877,
     "metadata": {},
     "output_type": "execute_result"
    }
   ],
   "source": [
    "predict[predict['NCTID'] == 'NCT03464799']"
   ]
  },
  {
   "cell_type": "code",
   "execution_count": 878,
   "id": "5353eac5-9af0-4ae3-b036-164988bfc53c",
   "metadata": {},
   "outputs": [
    {
     "data": {
      "text/html": [
       "<div>\n",
       "<style scoped>\n",
       "    .dataframe tbody tr th:only-of-type {\n",
       "        vertical-align: middle;\n",
       "    }\n",
       "\n",
       "    .dataframe tbody tr th {\n",
       "        vertical-align: top;\n",
       "    }\n",
       "\n",
       "    .dataframe thead th {\n",
       "        text-align: right;\n",
       "    }\n",
       "</style>\n",
       "<table border=\"1\" class=\"dataframe\">\n",
       "  <thead>\n",
       "    <tr style=\"text-align: right;\">\n",
       "      <th></th>\n",
       "      <th>NCTID</th>\n",
       "      <th>sum</th>\n",
       "      <th>sent_num</th>\n",
       "      <th>disease</th>\n",
       "      <th>medical condition</th>\n",
       "      <th>drug</th>\n",
       "      <th>device</th>\n",
       "      <th>Dose or measurements</th>\n",
       "      <th>clinical trial phase</th>\n",
       "      <th>population</th>\n",
       "      <th>Time</th>\n",
       "      <th>Medical Procedure</th>\n",
       "      <th>Biomarker</th>\n",
       "    </tr>\n",
       "  </thead>\n",
       "  <tbody>\n",
       "    <tr>\n",
       "      <th>1137</th>\n",
       "      <td>NCT03464799</td>\n",
       "      <td>Pathological specimens of 40 women that had be...</td>\n",
       "      <td>1</td>\n",
       "      <td>1</td>\n",
       "      <td>1</td>\n",
       "      <td>0</td>\n",
       "      <td>1</td>\n",
       "      <td>0</td>\n",
       "      <td>1</td>\n",
       "      <td>1</td>\n",
       "      <td>0</td>\n",
       "      <td>1</td>\n",
       "      <td>0</td>\n",
       "    </tr>\n",
       "    <tr>\n",
       "      <th>1138</th>\n",
       "      <td>NCT03464799</td>\n",
       "      <td>These tissues will be stained with a marker na...</td>\n",
       "      <td>2</td>\n",
       "      <td>1</td>\n",
       "      <td>1</td>\n",
       "      <td>1</td>\n",
       "      <td>1</td>\n",
       "      <td>1</td>\n",
       "      <td>1</td>\n",
       "      <td>1</td>\n",
       "      <td>0</td>\n",
       "      <td>1</td>\n",
       "      <td>1</td>\n",
       "    </tr>\n",
       "    <tr>\n",
       "      <th>1139</th>\n",
       "      <td>NCT03464799</td>\n",
       "      <td>\"programmed cell death (PD-1)\" is expressed on...</td>\n",
       "      <td>3</td>\n",
       "      <td>1</td>\n",
       "      <td>1</td>\n",
       "      <td>1</td>\n",
       "      <td>1</td>\n",
       "      <td>1</td>\n",
       "      <td>1</td>\n",
       "      <td>1</td>\n",
       "      <td>1</td>\n",
       "      <td>1</td>\n",
       "      <td>1</td>\n",
       "    </tr>\n",
       "    <tr>\n",
       "      <th>1140</th>\n",
       "      <td>NCT03464799</td>\n",
       "      <td>The immunotherapies in which antibodies agains...</td>\n",
       "      <td>4</td>\n",
       "      <td>1</td>\n",
       "      <td>1</td>\n",
       "      <td>1</td>\n",
       "      <td>1</td>\n",
       "      <td>0</td>\n",
       "      <td>1</td>\n",
       "      <td>1</td>\n",
       "      <td>0</td>\n",
       "      <td>1</td>\n",
       "      <td>1</td>\n",
       "    </tr>\n",
       "    <tr>\n",
       "      <th>1141</th>\n",
       "      <td>NCT03464799</td>\n",
       "      <td>If these ligands can be shown in the endometri...</td>\n",
       "      <td>5</td>\n",
       "      <td>1</td>\n",
       "      <td>1</td>\n",
       "      <td>0</td>\n",
       "      <td>0</td>\n",
       "      <td>0</td>\n",
       "      <td>0</td>\n",
       "      <td>0</td>\n",
       "      <td>0</td>\n",
       "      <td>1</td>\n",
       "      <td>0</td>\n",
       "    </tr>\n",
       "  </tbody>\n",
       "</table>\n",
       "</div>"
      ],
      "text/plain": [
       "            NCTID                                                sum sent_num  \\\n",
       "1137  NCT03464799  Pathological specimens of 40 women that had be...        1   \n",
       "1138  NCT03464799  These tissues will be stained with a marker na...        2   \n",
       "1139  NCT03464799  \"programmed cell death (PD-1)\" is expressed on...        3   \n",
       "1140  NCT03464799  The immunotherapies in which antibodies agains...        4   \n",
       "1141  NCT03464799  If these ligands can be shown in the endometri...        5   \n",
       "\n",
       "     disease  medical condition drug device Dose or measurements  \\\n",
       "1137       1                  1    0      1                    0   \n",
       "1138       1                  1    1      1                    1   \n",
       "1139       1                  1    1      1                    1   \n",
       "1140       1                  1    1      1                    0   \n",
       "1141       1                  1    0      0                    0   \n",
       "\n",
       "     clinical trial phase population Time Medical Procedure Biomarker  \n",
       "1137                    1          1    0                 1         0  \n",
       "1138                    1          1    0                 1         1  \n",
       "1139                    1          1    1                 1         1  \n",
       "1140                    1          1    0                 1         1  \n",
       "1141                    0          0    0                 1         0  "
      ]
     },
     "execution_count": 878,
     "metadata": {},
     "output_type": "execute_result"
    }
   ],
   "source": [
    "orig_test[orig_test['NCTID'] == 'NCT03464799']"
   ]
  },
  {
   "cell_type": "code",
   "execution_count": 879,
   "id": "ca65b3f7-bc19-4714-b7d3-4d2049a1b7a5",
   "metadata": {},
   "outputs": [
    {
     "data": {
      "text/plain": [
       "0.75"
      ]
     },
     "execution_count": 879,
     "metadata": {},
     "output_type": "execute_result"
    }
   ],
   "source": [
    "edges_set_G1 = set(g1.edges())\n",
    "edges_set_G2 = set(g2.edges())\n",
    "\n",
    "jaccard_similarity = len(edges_set_G1.intersection(edges_set_G2)) / len(edges_set_G1.union(edges_set_G2))\n",
    "jaccard_similarity"
   ]
  },
  {
   "cell_type": "code",
   "execution_count": 880,
   "id": "08238ead-48eb-46bd-bec9-a60a839c757b",
   "metadata": {},
   "outputs": [
    {
     "data": {
      "text/plain": [
       "<generator object get_jaccard_coefficients at 0x7f4a3c2be6d0>"
      ]
     },
     "execution_count": 880,
     "metadata": {},
     "output_type": "execute_result"
    }
   ],
   "source": [
    "get_jaccard_coefficients(g1,g2)\n"
   ]
  },
  {
   "cell_type": "markdown",
   "id": "bbe362da-15c8-47db-9cd8-77e9cc2070d1",
   "metadata": {},
   "source": [
    "# All graphs comparison"
   ]
  },
  {
   "cell_type": "code",
   "execution_count": 886,
   "id": "416a898f-fba3-4ca9-8801-e3a33e4d625a",
   "metadata": {},
   "outputs": [],
   "source": [
    "# nx.graph_edit_distance(G_orig_test, G_predict)"
   ]
  },
  {
   "cell_type": "code",
   "execution_count": 887,
   "id": "f8cf1511-ebca-44ca-af2a-f447b0e8289b",
   "metadata": {},
   "outputs": [],
   "source": [
    "# edges_set_G1 = set(G_orig_test.edges())\n",
    "# edges_set_G2 = set(G_predict.edges())\n",
    "\n",
    "# jaccard_similarity = len(edges_set_G1.intersection(edges_set_G2)) / len(edges_set_G1.union(edges_set_G2))"
   ]
  },
  {
   "cell_type": "code",
   "execution_count": 888,
   "id": "58982912-f5c0-488c-94fb-9225086748ac",
   "metadata": {},
   "outputs": [],
   "source": [
    "# jaccard_similarity"
   ]
  },
  {
   "cell_type": "code",
   "execution_count": 889,
   "id": "f3c50f0c-5d7d-42bf-aed1-c19a231ec0f4",
   "metadata": {},
   "outputs": [],
   "source": [
    "common_edges = edges_set_G1 & edges_set_G2\n",
    "weight_differences = {edge: abs(G_orig_test[edge[0]][edge[1]]['weight'] - G_predict[edge[0]][edge[1]]['weight'])\n",
    "                      for edge in common_edges}"
   ]
  },
  {
   "cell_type": "code",
   "execution_count": 890,
   "id": "6d1fa0bb-9adc-46bd-a585-0324c603777a",
   "metadata": {},
   "outputs": [
    {
     "data": {
      "text/plain": [
       "{(3, 'device'): 104,\n",
       " (1, 'Dose or measurements'): 50,\n",
       " (7, 'Time'): 69,\n",
       " (7, 'Biomarker'): 67,\n",
       " (5, 'device'): 11,\n",
       " (7, 'clinical trial phase'): 78,\n",
       " (1, 'drug'): 68,\n",
       " (4, 'disease'): 56,\n",
       " (5, 'medical condition'): 7,\n",
       " (3, 'medical condition'): 116,\n",
       " (2, 'population'): 140,\n",
       " (3, 'Dose or measurements'): 56,\n",
       " (1, 'disease'): 2,\n",
       " (2, 'Medical Procedure'): 146,\n",
       " (5, 'Dose or measurements'): 3,\n",
       " (6, 'population'): 63,\n",
       " (2, 'Time'): 134,\n",
       " (7, 'device'): 69,\n",
       " (2, 'Biomarker'): 119,\n",
       " (2, 'clinical trial phase'): 134,\n",
       " (6, 'Medical Procedure'): 82,\n",
       " (5, 'drug'): 6,\n",
       " (4, 'population'): 57,\n",
       " (3, 'drug'): 64,\n",
       " (7, 'medical condition'): 86,\n",
       " (6, 'Time'): 89,\n",
       " (6, 'Biomarker'): 71,\n",
       " (6, 'clinical trial phase'): 74,\n",
       " (3, 'disease'): 79,\n",
       " (4, 'Medical Procedure'): 31,\n",
       " (7, 'Dose or measurements'): 56,\n",
       " (5, 'disease'): 1,\n",
       " (4, 'Time'): 36,\n",
       " (4, 'Biomarker'): 48,\n",
       " (4, 'clinical trial phase'): 44,\n",
       " (1, 'population'): 36,\n",
       " (2, 'device'): 143,\n",
       " (7, 'drug'): 65,\n",
       " (1, 'Medical Procedure'): 9,\n",
       " (6, 'device'): 72,\n",
       " (2, 'medical condition'): 154,\n",
       " (1, 'Time'): 91,\n",
       " (7, 'disease'): 81,\n",
       " (1, 'Biomarker'): 74,\n",
       " (1, 'clinical trial phase'): 24,\n",
       " (6, 'medical condition'): 90,\n",
       " (2, 'Dose or measurements'): 112,\n",
       " (3, 'population'): 71,\n",
       " (5, 'population'): 23,\n",
       " (4, 'device'): 59,\n",
       " (3, 'Medical Procedure'): 63,\n",
       " (6, 'Dose or measurements'): 57,\n",
       " (4, 'medical condition'): 50,\n",
       " (3, 'Time'): 83,\n",
       " (5, 'Medical Procedure'): 8,\n",
       " (2, 'drug'): 124,\n",
       " (3, 'Biomarker'): 77,\n",
       " (1, 'device'): 66,\n",
       " (3, 'clinical trial phase'): 81,\n",
       " (5, 'Time'): 3,\n",
       " (4, 'Dose or measurements'): 65,\n",
       " (5, 'Biomarker'): 14,\n",
       " (5, 'clinical trial phase'): 5,\n",
       " (2, 'disease'): 163,\n",
       " (6, 'drug'): 62,\n",
       " (7, 'population'): 65,\n",
       " (1, 'medical condition'): 3,\n",
       " (6, 'disease'): 79,\n",
       " (7, 'Medical Procedure'): 78,\n",
       " (4, 'drug'): 39}"
      ]
     },
     "execution_count": 890,
     "metadata": {},
     "output_type": "execute_result"
    }
   ],
   "source": [
    "weight_differences"
   ]
  }
 ],
 "metadata": {
  "kernelspec": {
   "display_name": "Python 3.9 (Custom)",
   "language": "python",
   "name": "mycustomkernel"
  },
  "language_info": {
   "codemirror_mode": {
    "name": "ipython",
    "version": 3
   },
   "file_extension": ".py",
   "mimetype": "text/x-python",
   "name": "python",
   "nbconvert_exporter": "python",
   "pygments_lexer": "ipython3",
   "version": "3.9.7"
  }
 },
 "nbformat": 4,
 "nbformat_minor": 5
}
